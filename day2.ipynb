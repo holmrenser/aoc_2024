{
 "cells": [
  {
   "cell_type": "code",
   "execution_count": null,
   "metadata": {},
   "outputs": [
    {
     "name": "stdout",
     "output_type": "stream",
     "text": [
      "2\n",
      "4\n"
     ]
    }
   ],
   "source": [
    "def process_line(line):\n",
    "  return [*map(int, line.strip().split(' '))]\n",
    "\n",
    "def check_report(report):\n",
    "  all_increasing = True\n",
    "  all_decreasing = True\n",
    "  for a,b in zip(report[:-1], report[1:]):\n",
    "    all_increasing = (b < a) and all_increasing\n",
    "    all_decreasing = (b > a) and all_decreasing\n",
    "    if abs(b - a) > 3:\n",
    "      return False\n",
    "  return all_increasing or all_decreasing\n",
    "\n",
    "def sub_reports(report):\n",
    "  yield report\n",
    "  yield from map(lambda i: [*report[:i], *report[i+1:]], range(len(report)-1))\n",
    "\n",
    "def check_with_tolerance(report):\n",
    "  for sub_report in sub_reports(report):\n",
    "    if check_report(sub_report):\n",
    "      return True\n",
    "  return False\n",
    "with open('day2.example','r') as fh:\n",
    "  input = [*map(process_line, fh.readlines())]\n",
    "\n",
    "# part 1\n",
    "print(sum(map(check_report, input)))\n",
    "\n",
    "# part 2 (only works on test set so far)\n",
    "print(sum(map(check_with_tolerance, input)))"
   ]
  },
  {
   "cell_type": "code",
   "execution_count": null,
   "metadata": {},
   "outputs": [
    {
     "data": {
      "text/plain": [
       "4"
      ]
     },
     "execution_count": 57,
     "metadata": {},
     "output_type": "execute_result"
    }
   ],
   "source": []
  },
  {
   "cell_type": "code",
   "execution_count": null,
   "metadata": {},
   "outputs": [
    {
     "data": {
      "text/plain": [
       "[[7, 6, 4, 2, 1], [6, 4, 2, 1], [7, 4, 2, 1], [7, 6, 2, 1], [7, 6, 4, 1]]"
      ]
     },
     "execution_count": 54,
     "metadata": {},
     "output_type": "execute_result"
    }
   ],
   "source": []
  }
 ],
 "metadata": {
  "kernelspec": {
   "display_name": "base",
   "language": "python",
   "name": "python3"
  },
  "language_info": {
   "codemirror_mode": {
    "name": "ipython",
    "version": 3
   },
   "file_extension": ".py",
   "mimetype": "text/x-python",
   "name": "python",
   "nbconvert_exporter": "python",
   "pygments_lexer": "ipython3",
   "version": "3.10.6"
  }
 },
 "nbformat": 4,
 "nbformat_minor": 2
}
