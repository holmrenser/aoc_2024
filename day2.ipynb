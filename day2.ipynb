{
 "cells": [
  {
   "cell_type": "code",
   "execution_count": null,
   "metadata": {},
   "outputs": [
    {
     "name": "stdout",
     "output_type": "stream",
     "text": [
      "(False, False, False, True) (True, True, True, False) (False, True, True, True)\n"
     ]
    },
    {
     "ename": "TypeError",
     "evalue": "unsupported operand type(s) for +: 'int' and 'NoneType'",
     "output_type": "error",
     "traceback": [
      "\u001b[0;31m---------------------------------------------------------------------------\u001b[0m",
      "\u001b[0;31mTypeError\u001b[0m                                 Traceback (most recent call last)",
      "Cell \u001b[0;32mIn[10], line 25\u001b[0m\n\u001b[1;32m     22\u001b[0m \u001b[38;5;28;01mwith\u001b[39;00m \u001b[38;5;28mopen\u001b[39m(\u001b[38;5;124m'\u001b[39m\u001b[38;5;124mday2.input\u001b[39m\u001b[38;5;124m'\u001b[39m,\u001b[38;5;124m'\u001b[39m\u001b[38;5;124mr\u001b[39m\u001b[38;5;124m'\u001b[39m) \u001b[38;5;28;01mas\u001b[39;00m fh:\n\u001b[1;32m     23\u001b[0m   \u001b[38;5;28minput\u001b[39m \u001b[38;5;241m=\u001b[39m [\u001b[38;5;241m*\u001b[39m\u001b[38;5;28mmap\u001b[39m(process_line, fh\u001b[38;5;241m.\u001b[39mreadlines())]\n\u001b[0;32m---> 25\u001b[0m \u001b[38;5;28;43msum\u001b[39;49m\u001b[43m(\u001b[49m\u001b[38;5;28;43mmap\u001b[39;49m\u001b[43m(\u001b[49m\u001b[43mcheck_report\u001b[49m\u001b[43m,\u001b[49m\u001b[43m \u001b[49m\u001b[38;5;28;43minput\u001b[39;49m\u001b[43m)\u001b[49m\u001b[43m)\u001b[49m\n",
      "\u001b[0;31mTypeError\u001b[0m: unsupported operand type(s) for +: 'int' and 'NoneType'"
     ]
    }
   ],
   "source": [
    "from operator import gt, lt, sub\n",
    "\n",
    "def process_line(line):\n",
    "  return [*map(int, line.strip().split(' '))]\n",
    "\n",
    "def pair_status(pair):\n",
    "  return (gt(*pair), lt(*pair), gt(3, abs(sub(*pair))))\n",
    "\n",
    "def check_report(report, tolerance=0):\n",
    "  pairs = zip(report[:-1], report[1:])\n",
    "  increasing, decreasing, diff = zip(*map(pair_status, pairs))\n",
    "  return sum(increasing) \n",
    "  print(increasing, decreasing, diff)\n",
    "  \"\"\"\n",
    "  all_increasing = True\n",
    "  all_decreasing = True\n",
    "  for a,b in zip(report[:-1], report[1:]):\n",
    "    all_increasing = (b < a) and all_increasing\n",
    "    all_decreasing = (b > a) and all_decreasing\n",
    "    if abs(b - a) > 3:\n",
    "      return False\n",
    "  return all_increasing or all_decreasing\n",
    "  \"\"\"\n",
    "\n",
    "with open('day2.input','r') as fh:\n",
    "  input = [*map(process_line, fh.readlines())]\n",
    "\n",
    "sum(map(check_report, input))"
   ]
  }
 ],
 "metadata": {
  "kernelspec": {
   "display_name": "base",
   "language": "python",
   "name": "python3"
  },
  "language_info": {
   "codemirror_mode": {
    "name": "ipython",
    "version": 3
   },
   "file_extension": ".py",
   "mimetype": "text/x-python",
   "name": "python",
   "nbconvert_exporter": "python",
   "pygments_lexer": "ipython3",
   "version": "3.10.6"
  }
 },
 "nbformat": 4,
 "nbformat_minor": 2
}
