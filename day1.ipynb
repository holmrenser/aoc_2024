{
 "cells": [
  {
   "cell_type": "code",
   "execution_count": 51,
   "metadata": {},
   "outputs": [
    {
     "name": "stdout",
     "output_type": "stream",
     "text": [
      "1530215\n",
      "26800609\n"
     ]
    }
   ],
   "source": [
    "from collections import Counter\n",
    "from operator import sub\n",
    "\n",
    "def process_line(line):\n",
    "  return [*map(int, line.strip().split('   '))]\n",
    "\n",
    "with open('day1.input','r') as fh:\n",
    "  input = [*map(process_line, fh.readlines())]\n",
    "\n",
    "# part 1\n",
    "l1,l2 = map(sorted, zip(*input))\n",
    "solution1 = sum(map(lambda pair: abs(sub(*pair)), zip(l1,l2)))\n",
    "print(solution1)\n",
    "\n",
    "# part 2\n",
    "l2_counts = Counter(l2)\n",
    "solution2 = sum(map(lambda l1_entry: l1_entry * l2_counts.get(l1_entry, 0), l1))\n",
    "print(solution2)"
   ]
  }
 ],
 "metadata": {
  "kernelspec": {
   "display_name": "base",
   "language": "python",
   "name": "python3"
  },
  "language_info": {
   "codemirror_mode": {
    "name": "ipython",
    "version": 3
   },
   "file_extension": ".py",
   "mimetype": "text/x-python",
   "name": "python",
   "nbconvert_exporter": "python",
   "pygments_lexer": "ipython3",
   "version": "3.10.6"
  }
 },
 "nbformat": 4,
 "nbformat_minor": 2
}
